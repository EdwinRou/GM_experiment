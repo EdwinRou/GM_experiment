{
 "cells": [
  {
   "cell_type": "markdown",
   "metadata": {},
   "source": [
    "# Diffusion and Flow Matching Tutorial\n",
    "\n",
    "This tutorial demonstrates how to use the modular implementation of Diffusion Models and Flow Matching for generative modeling on a mixture of Gaussians dataset.\n",
    "\n",
    "## Setup\n",
    "\n",
    "First, let's import the necessary components from our codebase:"
   ]
  },
  {
   "cell_type": "code",
   "execution_count": null,
   "metadata": {},
   "source": [
    "import torch\n",
    "from src.data.dataset import get_dataloaders\n",
    "from src.utils.training import train_diffusion, train_flow\n",
    "from src.utils.visualization import plot_model_distributions, visualize_flow_evolution\n",
    "from src.utils.metrics import evaluate_generated_samples"
   ]
  },
  {
   "cell_type": "markdown",
   "metadata": {},
   "source": [
    "## 1. Data Generation and Loading\n",
    "\n",
    "We'll start by creating our data loaders for the mixture of Gaussians dataset:"
   ]
  },
  {
   "cell_type": "code",
   "execution_count": null,
   "metadata": {},
   "source": [
    "# Set random seed for reproducibility\n",
    "torch.manual_seed(42)\n",
    "\n",
    "# Create data loaders\n",
    "train_loader, test_loader, x_coords = get_dataloaders(\n",
    "    batch_size=512,\n",
    "    num_train=4000,\n",
    "    num_test=1000,\n",
    "    seed=42\n",
    ")\n",
    "\n",
    "# Move coordinates to device\n",
    "device = torch.device('cuda' if torch.cuda.is_available() else 'cpu')\n",
    "x_coords = x_coords.to(device)\n",
    "\n",
    "print(f\"Using device: {device}\")\n",
    "print(f\"Training set size: {len(train_loader.dataset)}\")\n",
    "print(f\"Test set size: {len(test_loader.dataset)}\")"
   ]
  },
  {
   "cell_type": "markdown",
   "metadata": {},
   "source": [
    "## 2. Training the Models\n",
    "\n",
    "Now we'll train both the DDPM and Flow Matching models:"
   ]
  },
  {
   "cell_type": "code",
   "execution_count": null,
   "metadata": {},
   "source": [
    "# Train Diffusion model\n",
    "print(\"Training Diffusion Model...\")\n",
    "diffusion_model, _, diffusion_losses = train_diffusion(\n",
    "    train_loader=train_loader,\n",
    "    test_loader=test_loader,\n",
    "    x_coords=x_coords,\n",
    "    num_epochs=100,  # Reduced for tutorial\n",
    "    save_interval=25,\n",
    "    device=device\n",
    ")"
   ]
  },
  {
   "cell_type": "code",
   "execution_count": null,
   "metadata": {},
   "source": [
    "# Train Flow Matching model\n",
    "print(\"Training Flow Matching Model...\")\n",
    "flow_model, _, test_data, flow_losses = train_flow(\n",
    "    train_loader=train_loader,\n",
    "    test_loader=test_loader,\n",
    "    x_coords=x_coords,\n",
    "    num_epochs=100,  # Reduced for tutorial\n",
    "    save_interval=25,\n",
    "    device=device\n",
    ")"
   ]
  },
  {
   "cell_type": "markdown",
   "metadata": {},
   "source": [
    "## 3. Generating and Comparing Samples\n",
    "\n",
    "Let's generate samples from both models and compare them:"
   ]
  },
  {
   "cell_type": "code",
   "execution_count": null,
   "metadata": {},
   "source": [
    "# Generate samples\n",
    "print(\"Generating samples...\")\n",
    "with torch.no_grad():\n",
    "    num_samples = 100\n",
    "    \n",
    "    # Generate Diffusion samples\n",
    "    diffusion_samples = diffusion_model.generate_samples(\n",
    "        num_samples=num_samples,\n",
    "        device=device,\n",
    "        x_coords=x_coords\n",
    "    )\n",
    "    \n",
    "    # Generate Flow samples\n",
    "    flow_samples = torch.randn(num_samples, len(x_coords)).to(device)\n",
    "    time_steps = torch.linspace(0, 1.0, 100, device=device)\n",
    "    \n",
    "    for i in range(len(time_steps)-1):\n",
    "        flow_samples = flow_model.step(\n",
    "            x_t=flow_samples,\n",
    "            t_start=time_steps[i],\n",
    "            t_end=time_steps[i+1]\n",
    "        )\n",
    "\n",
    "# Compare distributions\n",
    "plot_model_distributions(\n",
    "    diffusion_samples=diffusion_samples,\n",
    "    flow_samples=flow_samples,\n",
    "    x_coords=x_coords,\n",
    "    test_data=test_data,\n",
    "    num_samples=num_samples\n",
    ")"
   ]
  },
  {
   "cell_type": "markdown",
   "metadata": {},
   "source": [
    "## 4. Evaluating Sample Quality\n",
    "\n",
    "We can evaluate the quality of our generated samples using various metrics:"
   ]
  },
  {
   "cell_type": "code",
   "execution_count": null,
   "metadata": {},
   "source": [
    "# Evaluate samples\n",
    "diffusion_metrics = evaluate_generated_samples(diffusion_samples.cpu(), test_data[:num_samples].cpu())\n",
    "flow_metrics = evaluate_generated_samples(flow_samples.cpu(), test_data[:num_samples].cpu())\n",
    "\n",
    "# Display metrics\n",
    "print(\"\\nModel Comparison Metrics:\")\n",
    "print(\"-\" * 40)\n",
    "print(f\"{'Metric':<15} {'Diffusion':>10} {'Flow':>10}\")\n",
    "print(\"-\" * 40)\n",
    "for metric in diffusion_metrics.keys():\n",
    "    print(f\"{metric:<15} {diffusion_metrics[metric]:>10.4f} {flow_metrics[metric]:>10.4f}\")"
   ]
  },
  {
   "cell_type": "markdown",
   "metadata": {},
   "source": [
    "## 5. Visualizing Flow Evolution\n",
    "\n",
    "Finally, let's visualize how the Flow Matching model transforms noise into samples:"
   ]
  },
  {
   "cell_type": "code",
   "execution_count": null,
   "metadata": {},
   "source": [
    "# Generate evolution samples\n",
    "x_samples = []\n",
    "current_sample = torch.randn(1, len(x_coords)).to(device)\n",
    "x_samples.append(current_sample)\n",
    "\n",
    "time_steps = torch.linspace(0, 1.0, 100, device=device)\n",
    "for i in range(len(time_steps)-1):\n",
    "    current_sample = flow_model.step(\n",
    "        x_t=current_sample,\n",
    "        t_start=time_steps[i],\n",
    "        t_end=time_steps[i+1]\n",
    "    )\n",
    "    x_samples.append(current_sample)\n",
    "\n",
    "# Visualize evolution\n",
    "visualize_flow_evolution(\n",
    "    x_samples=x_samples,\n",
    "    x_coords=x_coords,\n",
    "    time_steps=time_steps.tolist()\n",
    ")"
   ]
  }
 ],
 "metadata": {
  "kernelspec": {
   "display_name": "Python 3",
   "language": "python",
   "name": "python3"
  },
  "language_info": {
   "codemirror_mode": {
    "name": "ipython",
    "version": 3
   },
   "file_extension": ".py",
   "mimetype": "text/x-python",
   "name": "python",
   "nbconvert_exporter": "python",
   "pygments_lexer": "ipython3",
   "version": "3.8.0"
  }
 },
 "nbformat": 4,
 "nbformat_minor": 4
}
